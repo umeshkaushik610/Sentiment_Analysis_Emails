{
 "cells": [
  {
   "cell_type": "code",
   "execution_count": 1,
   "metadata": {
    "colab": {
     "base_uri": "https://localhost:8080/"
    },
    "id": "K5-vwBbff3df",
    "outputId": "cfe252d2-62e6-4cbe-f72c-a93e6288a890"
   },
   "outputs": [
    {
     "name": "stdout",
     "output_type": "stream",
     "text": [
      "`%tensorflow_version` only switches the major version: 1.x or 2.x.\n",
      "You set: `2.6`. This will be interpreted as: `2.x`.\n",
      "\n",
      "\n",
      "TensorFlow 2.x selected.\n"
     ]
    }
   ],
   "source": [
    "%tensorflow_version 2.6"
   ]
  },
  {
   "cell_type": "code",
   "execution_count": 18,
   "metadata": {
    "colab": {
     "base_uri": "https://localhost:8080/"
    },
    "id": "xSnTaTwuYcdV",
    "outputId": "f702a718-ab90-4cee-aa23-31fb57b42a16"
   },
   "outputs": [
    {
     "name": "stdout",
     "output_type": "stream",
     "text": [
      "Requirement already satisfied: tensorflow-text in /usr/local/lib/python3.7/dist-packages (2.6.0)\n",
      "Requirement already satisfied: tensorflow<2.7,>=2.6.0 in /usr/local/lib/python3.7/dist-packages (from tensorflow-text) (2.6.3)\n",
      "Requirement already satisfied: tensorflow-hub>=0.8.0 in /usr/local/lib/python3.7/dist-packages (from tensorflow-text) (0.12.0)\n",
      "Requirement already satisfied: tensorflow-estimator<2.7,>=2.6.0 in /usr/local/lib/python3.7/dist-packages (from tensorflow<2.7,>=2.6.0->tensorflow-text) (2.6.0)\n",
      "Requirement already satisfied: flatbuffers~=1.12.0 in /usr/local/lib/python3.7/dist-packages (from tensorflow<2.7,>=2.6.0->tensorflow-text) (1.12)\n",
      "Requirement already satisfied: keras<2.7,>=2.6.0 in /usr/local/lib/python3.7/dist-packages (from tensorflow<2.7,>=2.6.0->tensorflow-text) (2.6.0)\n",
      "Requirement already satisfied: clang~=5.0 in /usr/local/lib/python3.7/dist-packages (from tensorflow<2.7,>=2.6.0->tensorflow-text) (5.0)\n",
      "Requirement already satisfied: keras-preprocessing~=1.1.2 in /usr/local/lib/python3.7/dist-packages (from tensorflow<2.7,>=2.6.0->tensorflow-text) (1.1.2)\n",
      "Requirement already satisfied: grpcio<2.0,>=1.37.0 in /usr/local/lib/python3.7/dist-packages (from tensorflow<2.7,>=2.6.0->tensorflow-text) (1.44.0)\n",
      "Requirement already satisfied: wrapt~=1.12.1 in /usr/local/lib/python3.7/dist-packages (from tensorflow<2.7,>=2.6.0->tensorflow-text) (1.12.1)\n",
      "Requirement already satisfied: h5py~=3.1.0 in /usr/local/lib/python3.7/dist-packages (from tensorflow<2.7,>=2.6.0->tensorflow-text) (3.1.0)\n",
      "Requirement already satisfied: six~=1.15.0 in /usr/local/lib/python3.7/dist-packages (from tensorflow<2.7,>=2.6.0->tensorflow-text) (1.15.0)\n",
      "Requirement already satisfied: tensorboard<2.7,>=2.6.0 in /usr/local/lib/python3.7/dist-packages (from tensorflow<2.7,>=2.6.0->tensorflow-text) (2.6.0)\n",
      "Requirement already satisfied: absl-py~=0.10 in /usr/local/lib/python3.7/dist-packages (from tensorflow<2.7,>=2.6.0->tensorflow-text) (0.15.0)\n",
      "Requirement already satisfied: google-pasta~=0.2 in /usr/local/lib/python3.7/dist-packages (from tensorflow<2.7,>=2.6.0->tensorflow-text) (0.2.0)\n",
      "Requirement already satisfied: protobuf>=3.9.2 in /usr/local/lib/python3.7/dist-packages (from tensorflow<2.7,>=2.6.0->tensorflow-text) (3.17.3)\n",
      "Requirement already satisfied: wheel~=0.35 in /usr/local/lib/python3.7/dist-packages (from tensorflow<2.7,>=2.6.0->tensorflow-text) (0.37.1)\n",
      "Requirement already satisfied: typing-extensions<3.11,>=3.7 in /usr/local/lib/python3.7/dist-packages (from tensorflow<2.7,>=2.6.0->tensorflow-text) (3.10.0.2)\n",
      "Requirement already satisfied: numpy~=1.19.2 in /usr/local/lib/python3.7/dist-packages (from tensorflow<2.7,>=2.6.0->tensorflow-text) (1.19.5)\n",
      "Requirement already satisfied: termcolor~=1.1.0 in /usr/local/lib/python3.7/dist-packages (from tensorflow<2.7,>=2.6.0->tensorflow-text) (1.1.0)\n",
      "Requirement already satisfied: astunparse~=1.6.3 in /usr/local/lib/python3.7/dist-packages (from tensorflow<2.7,>=2.6.0->tensorflow-text) (1.6.3)\n",
      "Requirement already satisfied: opt-einsum~=3.3.0 in /usr/local/lib/python3.7/dist-packages (from tensorflow<2.7,>=2.6.0->tensorflow-text) (3.3.0)\n",
      "Requirement already satisfied: gast==0.4.0 in /usr/local/lib/python3.7/dist-packages (from tensorflow<2.7,>=2.6.0->tensorflow-text) (0.4.0)\n",
      "Requirement already satisfied: cached-property in /usr/local/lib/python3.7/dist-packages (from h5py~=3.1.0->tensorflow<2.7,>=2.6.0->tensorflow-text) (1.5.2)\n",
      "Requirement already satisfied: markdown>=2.6.8 in /usr/local/lib/python3.7/dist-packages (from tensorboard<2.7,>=2.6.0->tensorflow<2.7,>=2.6.0->tensorflow-text) (3.3.6)\n",
      "Requirement already satisfied: tensorboard-data-server<0.7.0,>=0.6.0 in /usr/local/lib/python3.7/dist-packages (from tensorboard<2.7,>=2.6.0->tensorflow<2.7,>=2.6.0->tensorflow-text) (0.6.1)\n",
      "Requirement already satisfied: tensorboard-plugin-wit>=1.6.0 in /usr/local/lib/python3.7/dist-packages (from tensorboard<2.7,>=2.6.0->tensorflow<2.7,>=2.6.0->tensorflow-text) (1.8.1)\n",
      "Requirement already satisfied: google-auth<2,>=1.6.3 in /usr/local/lib/python3.7/dist-packages (from tensorboard<2.7,>=2.6.0->tensorflow<2.7,>=2.6.0->tensorflow-text) (1.35.0)\n",
      "Requirement already satisfied: requests<3,>=2.21.0 in /usr/local/lib/python3.7/dist-packages (from tensorboard<2.7,>=2.6.0->tensorflow<2.7,>=2.6.0->tensorflow-text) (2.23.0)\n",
      "Requirement already satisfied: werkzeug>=0.11.15 in /usr/local/lib/python3.7/dist-packages (from tensorboard<2.7,>=2.6.0->tensorflow<2.7,>=2.6.0->tensorflow-text) (1.0.1)\n",
      "Requirement already satisfied: setuptools>=41.0.0 in /usr/local/lib/python3.7/dist-packages (from tensorboard<2.7,>=2.6.0->tensorflow<2.7,>=2.6.0->tensorflow-text) (57.4.0)\n",
      "Requirement already satisfied: google-auth-oauthlib<0.5,>=0.4.1 in /usr/local/lib/python3.7/dist-packages (from tensorboard<2.7,>=2.6.0->tensorflow<2.7,>=2.6.0->tensorflow-text) (0.4.6)\n",
      "Requirement already satisfied: rsa<5,>=3.1.4 in /usr/local/lib/python3.7/dist-packages (from google-auth<2,>=1.6.3->tensorboard<2.7,>=2.6.0->tensorflow<2.7,>=2.6.0->tensorflow-text) (4.8)\n",
      "Requirement already satisfied: pyasn1-modules>=0.2.1 in /usr/local/lib/python3.7/dist-packages (from google-auth<2,>=1.6.3->tensorboard<2.7,>=2.6.0->tensorflow<2.7,>=2.6.0->tensorflow-text) (0.2.8)\n",
      "Requirement already satisfied: cachetools<5.0,>=2.0.0 in /usr/local/lib/python3.7/dist-packages (from google-auth<2,>=1.6.3->tensorboard<2.7,>=2.6.0->tensorflow<2.7,>=2.6.0->tensorflow-text) (4.2.4)\n",
      "Requirement already satisfied: requests-oauthlib>=0.7.0 in /usr/local/lib/python3.7/dist-packages (from google-auth-oauthlib<0.5,>=0.4.1->tensorboard<2.7,>=2.6.0->tensorflow<2.7,>=2.6.0->tensorflow-text) (1.3.1)\n",
      "Requirement already satisfied: importlib-metadata>=4.4 in /usr/local/lib/python3.7/dist-packages (from markdown>=2.6.8->tensorboard<2.7,>=2.6.0->tensorflow<2.7,>=2.6.0->tensorflow-text) (4.11.3)\n",
      "Requirement already satisfied: zipp>=0.5 in /usr/local/lib/python3.7/dist-packages (from importlib-metadata>=4.4->markdown>=2.6.8->tensorboard<2.7,>=2.6.0->tensorflow<2.7,>=2.6.0->tensorflow-text) (3.8.0)\n",
      "Requirement already satisfied: pyasn1<0.5.0,>=0.4.6 in /usr/local/lib/python3.7/dist-packages (from pyasn1-modules>=0.2.1->google-auth<2,>=1.6.3->tensorboard<2.7,>=2.6.0->tensorflow<2.7,>=2.6.0->tensorflow-text) (0.4.8)\n",
      "Requirement already satisfied: urllib3!=1.25.0,!=1.25.1,<1.26,>=1.21.1 in /usr/local/lib/python3.7/dist-packages (from requests<3,>=2.21.0->tensorboard<2.7,>=2.6.0->tensorflow<2.7,>=2.6.0->tensorflow-text) (1.24.3)\n",
      "Requirement already satisfied: chardet<4,>=3.0.2 in /usr/local/lib/python3.7/dist-packages (from requests<3,>=2.21.0->tensorboard<2.7,>=2.6.0->tensorflow<2.7,>=2.6.0->tensorflow-text) (3.0.4)\n",
      "Requirement already satisfied: certifi>=2017.4.17 in /usr/local/lib/python3.7/dist-packages (from requests<3,>=2.21.0->tensorboard<2.7,>=2.6.0->tensorflow<2.7,>=2.6.0->tensorflow-text) (2021.10.8)\n",
      "Requirement already satisfied: idna<3,>=2.5 in /usr/local/lib/python3.7/dist-packages (from requests<3,>=2.21.0->tensorboard<2.7,>=2.6.0->tensorflow<2.7,>=2.6.0->tensorflow-text) (2.10)\n",
      "Requirement already satisfied: oauthlib>=3.0.0 in /usr/local/lib/python3.7/dist-packages (from requests-oauthlib>=0.7.0->google-auth-oauthlib<0.5,>=0.4.1->tensorboard<2.7,>=2.6.0->tensorflow<2.7,>=2.6.0->tensorflow-text) (3.2.0)\n"
     ]
    }
   ],
   "source": [
    "import tensorflow as tf\n",
    "import tensorflow_hub as hub\n",
    "# !pip install tensorflow-text 1.7.0\n",
    "# !pip install -U tensorflow-text==2.6.0\n",
    "\n",
    "\n",
    "!pip install tensorflow-text\n",
    "import tensorflow_text as text\n"
   ]
  },
  {
   "cell_type": "code",
   "execution_count": 19,
   "metadata": {
    "colab": {
     "base_uri": "https://localhost:8080/",
     "height": 206
    },
    "id": "BB8MhiexYpJV",
    "outputId": "b715a01f-f8e2-4860-ba54-6bd3cd1d79e8"
   },
   "outputs": [
    {
     "data": {
      "text/html": [
       "\n",
       "  <div id=\"df-0dd27e3a-afe9-4f91-9875-f0ce0be084a9\">\n",
       "    <div class=\"colab-df-container\">\n",
       "      <div>\n",
       "<style scoped>\n",
       "    .dataframe tbody tr th:only-of-type {\n",
       "        vertical-align: middle;\n",
       "    }\n",
       "\n",
       "    .dataframe tbody tr th {\n",
       "        vertical-align: top;\n",
       "    }\n",
       "\n",
       "    .dataframe thead th {\n",
       "        text-align: right;\n",
       "    }\n",
       "</style>\n",
       "<table border=\"1\" class=\"dataframe\">\n",
       "  <thead>\n",
       "    <tr style=\"text-align: right;\">\n",
       "      <th></th>\n",
       "      <th>Category</th>\n",
       "      <th>Message</th>\n",
       "      <th>Unnamed: 2</th>\n",
       "      <th>Unnamed: 3</th>\n",
       "      <th>Unnamed: 4</th>\n",
       "    </tr>\n",
       "  </thead>\n",
       "  <tbody>\n",
       "    <tr>\n",
       "      <th>0</th>\n",
       "      <td>ham</td>\n",
       "      <td>Go until jurong point, crazy.. Available only ...</td>\n",
       "      <td>NaN</td>\n",
       "      <td>NaN</td>\n",
       "      <td>NaN</td>\n",
       "    </tr>\n",
       "    <tr>\n",
       "      <th>1</th>\n",
       "      <td>ham</td>\n",
       "      <td>Ok lar... Joking wif u oni...</td>\n",
       "      <td>NaN</td>\n",
       "      <td>NaN</td>\n",
       "      <td>NaN</td>\n",
       "    </tr>\n",
       "    <tr>\n",
       "      <th>2</th>\n",
       "      <td>spam</td>\n",
       "      <td>Free entry in 2 a wkly comp to win FA Cup fina...</td>\n",
       "      <td>NaN</td>\n",
       "      <td>NaN</td>\n",
       "      <td>NaN</td>\n",
       "    </tr>\n",
       "    <tr>\n",
       "      <th>3</th>\n",
       "      <td>ham</td>\n",
       "      <td>U dun say so early hor... U c already then say...</td>\n",
       "      <td>NaN</td>\n",
       "      <td>NaN</td>\n",
       "      <td>NaN</td>\n",
       "    </tr>\n",
       "    <tr>\n",
       "      <th>4</th>\n",
       "      <td>ham</td>\n",
       "      <td>Nah I don't think he goes to usf, he lives aro...</td>\n",
       "      <td>NaN</td>\n",
       "      <td>NaN</td>\n",
       "      <td>NaN</td>\n",
       "    </tr>\n",
       "  </tbody>\n",
       "</table>\n",
       "</div>\n",
       "      <button class=\"colab-df-convert\" onclick=\"convertToInteractive('df-0dd27e3a-afe9-4f91-9875-f0ce0be084a9')\"\n",
       "              title=\"Convert this dataframe to an interactive table.\"\n",
       "              style=\"display:none;\">\n",
       "        \n",
       "  <svg xmlns=\"http://www.w3.org/2000/svg\" height=\"24px\"viewBox=\"0 0 24 24\"\n",
       "       width=\"24px\">\n",
       "    <path d=\"M0 0h24v24H0V0z\" fill=\"none\"/>\n",
       "    <path d=\"M18.56 5.44l.94 2.06.94-2.06 2.06-.94-2.06-.94-.94-2.06-.94 2.06-2.06.94zm-11 1L8.5 8.5l.94-2.06 2.06-.94-2.06-.94L8.5 2.5l-.94 2.06-2.06.94zm10 10l.94 2.06.94-2.06 2.06-.94-2.06-.94-.94-2.06-.94 2.06-2.06.94z\"/><path d=\"M17.41 7.96l-1.37-1.37c-.4-.4-.92-.59-1.43-.59-.52 0-1.04.2-1.43.59L10.3 9.45l-7.72 7.72c-.78.78-.78 2.05 0 2.83L4 21.41c.39.39.9.59 1.41.59.51 0 1.02-.2 1.41-.59l7.78-7.78 2.81-2.81c.8-.78.8-2.07 0-2.86zM5.41 20L4 18.59l7.72-7.72 1.47 1.35L5.41 20z\"/>\n",
       "  </svg>\n",
       "      </button>\n",
       "      \n",
       "  <style>\n",
       "    .colab-df-container {\n",
       "      display:flex;\n",
       "      flex-wrap:wrap;\n",
       "      gap: 12px;\n",
       "    }\n",
       "\n",
       "    .colab-df-convert {\n",
       "      background-color: #E8F0FE;\n",
       "      border: none;\n",
       "      border-radius: 50%;\n",
       "      cursor: pointer;\n",
       "      display: none;\n",
       "      fill: #1967D2;\n",
       "      height: 32px;\n",
       "      padding: 0 0 0 0;\n",
       "      width: 32px;\n",
       "    }\n",
       "\n",
       "    .colab-df-convert:hover {\n",
       "      background-color: #E2EBFA;\n",
       "      box-shadow: 0px 1px 2px rgba(60, 64, 67, 0.3), 0px 1px 3px 1px rgba(60, 64, 67, 0.15);\n",
       "      fill: #174EA6;\n",
       "    }\n",
       "\n",
       "    [theme=dark] .colab-df-convert {\n",
       "      background-color: #3B4455;\n",
       "      fill: #D2E3FC;\n",
       "    }\n",
       "\n",
       "    [theme=dark] .colab-df-convert:hover {\n",
       "      background-color: #434B5C;\n",
       "      box-shadow: 0px 1px 3px 1px rgba(0, 0, 0, 0.15);\n",
       "      filter: drop-shadow(0px 1px 2px rgba(0, 0, 0, 0.3));\n",
       "      fill: #FFFFFF;\n",
       "    }\n",
       "  </style>\n",
       "\n",
       "      <script>\n",
       "        const buttonEl =\n",
       "          document.querySelector('#df-0dd27e3a-afe9-4f91-9875-f0ce0be084a9 button.colab-df-convert');\n",
       "        buttonEl.style.display =\n",
       "          google.colab.kernel.accessAllowed ? 'block' : 'none';\n",
       "\n",
       "        async function convertToInteractive(key) {\n",
       "          const element = document.querySelector('#df-0dd27e3a-afe9-4f91-9875-f0ce0be084a9');\n",
       "          const dataTable =\n",
       "            await google.colab.kernel.invokeFunction('convertToInteractive',\n",
       "                                                     [key], {});\n",
       "          if (!dataTable) return;\n",
       "\n",
       "          const docLinkHtml = 'Like what you see? Visit the ' +\n",
       "            '<a target=\"_blank\" href=https://colab.research.google.com/notebooks/data_table.ipynb>data table notebook</a>'\n",
       "            + ' to learn more about interactive tables.';\n",
       "          element.innerHTML = '';\n",
       "          dataTable['output_type'] = 'display_data';\n",
       "          await google.colab.output.renderOutput(dataTable, element);\n",
       "          const docLink = document.createElement('div');\n",
       "          docLink.innerHTML = docLinkHtml;\n",
       "          element.appendChild(docLink);\n",
       "        }\n",
       "      </script>\n",
       "    </div>\n",
       "  </div>\n",
       "  "
      ],
      "text/plain": [
       "  Category                                            Message Unnamed: 2  \\\n",
       "0      ham  Go until jurong point, crazy.. Available only ...        NaN   \n",
       "1      ham                      Ok lar... Joking wif u oni...        NaN   \n",
       "2     spam  Free entry in 2 a wkly comp to win FA Cup fina...        NaN   \n",
       "3      ham  U dun say so early hor... U c already then say...        NaN   \n",
       "4      ham  Nah I don't think he goes to usf, he lives aro...        NaN   \n",
       "\n",
       "  Unnamed: 3 Unnamed: 4  \n",
       "0        NaN        NaN  \n",
       "1        NaN        NaN  \n",
       "2        NaN        NaN  \n",
       "3        NaN        NaN  \n",
       "4        NaN        NaN  "
      ]
     },
     "execution_count": 19,
     "metadata": {},
     "output_type": "execute_result"
    }
   ],
   "source": [
    "\n",
    "import pandas as pd\n",
    "\n",
    "df = pd.read_csv('/content/spam.csv',encoding = \"ISO-8859-1\")\n",
    "df.head()"
   ]
  },
  {
   "cell_type": "code",
   "execution_count": 20,
   "metadata": {
    "id": "nOAJSEzdinvl"
   },
   "outputs": [],
   "source": [
    "df = df.drop(['Unnamed: 2'], axis=1)"
   ]
  },
  {
   "cell_type": "code",
   "execution_count": 21,
   "metadata": {
    "id": "6trBSLp_inwm"
   },
   "outputs": [],
   "source": [
    "df = df.drop(['Unnamed: 3'], axis=1)"
   ]
  },
  {
   "cell_type": "code",
   "execution_count": 22,
   "metadata": {
    "id": "lE5bolN3in1u"
   },
   "outputs": [],
   "source": [
    "df = df.drop(['Unnamed: 4'], axis=1)"
   ]
  },
  {
   "cell_type": "code",
   "execution_count": 23,
   "metadata": {
    "colab": {
     "base_uri": "https://localhost:8080/",
     "height": 206
    },
    "id": "FU62dMZol8q7",
    "outputId": "f0b9e468-0a1c-4fed-8605-1c0b87bdb918"
   },
   "outputs": [
    {
     "data": {
      "text/html": [
       "\n",
       "  <div id=\"df-6501fe68-f96a-417b-a635-5b49fa15b66b\">\n",
       "    <div class=\"colab-df-container\">\n",
       "      <div>\n",
       "<style scoped>\n",
       "    .dataframe tbody tr th:only-of-type {\n",
       "        vertical-align: middle;\n",
       "    }\n",
       "\n",
       "    .dataframe tbody tr th {\n",
       "        vertical-align: top;\n",
       "    }\n",
       "\n",
       "    .dataframe thead th {\n",
       "        text-align: right;\n",
       "    }\n",
       "</style>\n",
       "<table border=\"1\" class=\"dataframe\">\n",
       "  <thead>\n",
       "    <tr style=\"text-align: right;\">\n",
       "      <th></th>\n",
       "      <th>Category</th>\n",
       "      <th>Message</th>\n",
       "    </tr>\n",
       "  </thead>\n",
       "  <tbody>\n",
       "    <tr>\n",
       "      <th>0</th>\n",
       "      <td>ham</td>\n",
       "      <td>Go until jurong point, crazy.. Available only ...</td>\n",
       "    </tr>\n",
       "    <tr>\n",
       "      <th>1</th>\n",
       "      <td>ham</td>\n",
       "      <td>Ok lar... Joking wif u oni...</td>\n",
       "    </tr>\n",
       "    <tr>\n",
       "      <th>2</th>\n",
       "      <td>spam</td>\n",
       "      <td>Free entry in 2 a wkly comp to win FA Cup fina...</td>\n",
       "    </tr>\n",
       "    <tr>\n",
       "      <th>3</th>\n",
       "      <td>ham</td>\n",
       "      <td>U dun say so early hor... U c already then say...</td>\n",
       "    </tr>\n",
       "    <tr>\n",
       "      <th>4</th>\n",
       "      <td>ham</td>\n",
       "      <td>Nah I don't think he goes to usf, he lives aro...</td>\n",
       "    </tr>\n",
       "  </tbody>\n",
       "</table>\n",
       "</div>\n",
       "      <button class=\"colab-df-convert\" onclick=\"convertToInteractive('df-6501fe68-f96a-417b-a635-5b49fa15b66b')\"\n",
       "              title=\"Convert this dataframe to an interactive table.\"\n",
       "              style=\"display:none;\">\n",
       "        \n",
       "  <svg xmlns=\"http://www.w3.org/2000/svg\" height=\"24px\"viewBox=\"0 0 24 24\"\n",
       "       width=\"24px\">\n",
       "    <path d=\"M0 0h24v24H0V0z\" fill=\"none\"/>\n",
       "    <path d=\"M18.56 5.44l.94 2.06.94-2.06 2.06-.94-2.06-.94-.94-2.06-.94 2.06-2.06.94zm-11 1L8.5 8.5l.94-2.06 2.06-.94-2.06-.94L8.5 2.5l-.94 2.06-2.06.94zm10 10l.94 2.06.94-2.06 2.06-.94-2.06-.94-.94-2.06-.94 2.06-2.06.94z\"/><path d=\"M17.41 7.96l-1.37-1.37c-.4-.4-.92-.59-1.43-.59-.52 0-1.04.2-1.43.59L10.3 9.45l-7.72 7.72c-.78.78-.78 2.05 0 2.83L4 21.41c.39.39.9.59 1.41.59.51 0 1.02-.2 1.41-.59l7.78-7.78 2.81-2.81c.8-.78.8-2.07 0-2.86zM5.41 20L4 18.59l7.72-7.72 1.47 1.35L5.41 20z\"/>\n",
       "  </svg>\n",
       "      </button>\n",
       "      \n",
       "  <style>\n",
       "    .colab-df-container {\n",
       "      display:flex;\n",
       "      flex-wrap:wrap;\n",
       "      gap: 12px;\n",
       "    }\n",
       "\n",
       "    .colab-df-convert {\n",
       "      background-color: #E8F0FE;\n",
       "      border: none;\n",
       "      border-radius: 50%;\n",
       "      cursor: pointer;\n",
       "      display: none;\n",
       "      fill: #1967D2;\n",
       "      height: 32px;\n",
       "      padding: 0 0 0 0;\n",
       "      width: 32px;\n",
       "    }\n",
       "\n",
       "    .colab-df-convert:hover {\n",
       "      background-color: #E2EBFA;\n",
       "      box-shadow: 0px 1px 2px rgba(60, 64, 67, 0.3), 0px 1px 3px 1px rgba(60, 64, 67, 0.15);\n",
       "      fill: #174EA6;\n",
       "    }\n",
       "\n",
       "    [theme=dark] .colab-df-convert {\n",
       "      background-color: #3B4455;\n",
       "      fill: #D2E3FC;\n",
       "    }\n",
       "\n",
       "    [theme=dark] .colab-df-convert:hover {\n",
       "      background-color: #434B5C;\n",
       "      box-shadow: 0px 1px 3px 1px rgba(0, 0, 0, 0.15);\n",
       "      filter: drop-shadow(0px 1px 2px rgba(0, 0, 0, 0.3));\n",
       "      fill: #FFFFFF;\n",
       "    }\n",
       "  </style>\n",
       "\n",
       "      <script>\n",
       "        const buttonEl =\n",
       "          document.querySelector('#df-6501fe68-f96a-417b-a635-5b49fa15b66b button.colab-df-convert');\n",
       "        buttonEl.style.display =\n",
       "          google.colab.kernel.accessAllowed ? 'block' : 'none';\n",
       "\n",
       "        async function convertToInteractive(key) {\n",
       "          const element = document.querySelector('#df-6501fe68-f96a-417b-a635-5b49fa15b66b');\n",
       "          const dataTable =\n",
       "            await google.colab.kernel.invokeFunction('convertToInteractive',\n",
       "                                                     [key], {});\n",
       "          if (!dataTable) return;\n",
       "\n",
       "          const docLinkHtml = 'Like what you see? Visit the ' +\n",
       "            '<a target=\"_blank\" href=https://colab.research.google.com/notebooks/data_table.ipynb>data table notebook</a>'\n",
       "            + ' to learn more about interactive tables.';\n",
       "          element.innerHTML = '';\n",
       "          dataTable['output_type'] = 'display_data';\n",
       "          await google.colab.output.renderOutput(dataTable, element);\n",
       "          const docLink = document.createElement('div');\n",
       "          docLink.innerHTML = docLinkHtml;\n",
       "          element.appendChild(docLink);\n",
       "        }\n",
       "      </script>\n",
       "    </div>\n",
       "  </div>\n",
       "  "
      ],
      "text/plain": [
       "  Category                                            Message\n",
       "0      ham  Go until jurong point, crazy.. Available only ...\n",
       "1      ham                      Ok lar... Joking wif u oni...\n",
       "2     spam  Free entry in 2 a wkly comp to win FA Cup fina...\n",
       "3      ham  U dun say so early hor... U c already then say...\n",
       "4      ham  Nah I don't think he goes to usf, he lives aro..."
      ]
     },
     "execution_count": 23,
     "metadata": {},
     "output_type": "execute_result"
    }
   ],
   "source": [
    "df.head()"
   ]
  },
  {
   "cell_type": "code",
   "execution_count": 24,
   "metadata": {
    "colab": {
     "base_uri": "https://localhost:8080/",
     "height": 175
    },
    "id": "UOkHzVppf9yL",
    "outputId": "07f2ce23-f222-4d92-f735-1fc74ded248e"
   },
   "outputs": [
    {
     "data": {
      "text/html": [
       "\n",
       "  <div id=\"df-4b7ad50b-411f-4181-b2c4-f133564d5cdc\">\n",
       "    <div class=\"colab-df-container\">\n",
       "      <div>\n",
       "<style scoped>\n",
       "    .dataframe tbody tr th:only-of-type {\n",
       "        vertical-align: middle;\n",
       "    }\n",
       "\n",
       "    .dataframe tbody tr th {\n",
       "        vertical-align: top;\n",
       "    }\n",
       "\n",
       "    .dataframe thead tr th {\n",
       "        text-align: left;\n",
       "    }\n",
       "\n",
       "    .dataframe thead tr:last-of-type th {\n",
       "        text-align: right;\n",
       "    }\n",
       "</style>\n",
       "<table border=\"1\" class=\"dataframe\">\n",
       "  <thead>\n",
       "    <tr>\n",
       "      <th></th>\n",
       "      <th colspan=\"4\" halign=\"left\">Message</th>\n",
       "    </tr>\n",
       "    <tr>\n",
       "      <th></th>\n",
       "      <th>count</th>\n",
       "      <th>unique</th>\n",
       "      <th>top</th>\n",
       "      <th>freq</th>\n",
       "    </tr>\n",
       "    <tr>\n",
       "      <th>Category</th>\n",
       "      <th></th>\n",
       "      <th></th>\n",
       "      <th></th>\n",
       "      <th></th>\n",
       "    </tr>\n",
       "  </thead>\n",
       "  <tbody>\n",
       "    <tr>\n",
       "      <th>ham</th>\n",
       "      <td>4825</td>\n",
       "      <td>4516</td>\n",
       "      <td>Sorry, I'll call later</td>\n",
       "      <td>30</td>\n",
       "    </tr>\n",
       "    <tr>\n",
       "      <th>spam</th>\n",
       "      <td>747</td>\n",
       "      <td>653</td>\n",
       "      <td>Please call our customer service representativ...</td>\n",
       "      <td>4</td>\n",
       "    </tr>\n",
       "  </tbody>\n",
       "</table>\n",
       "</div>\n",
       "      <button class=\"colab-df-convert\" onclick=\"convertToInteractive('df-4b7ad50b-411f-4181-b2c4-f133564d5cdc')\"\n",
       "              title=\"Convert this dataframe to an interactive table.\"\n",
       "              style=\"display:none;\">\n",
       "        \n",
       "  <svg xmlns=\"http://www.w3.org/2000/svg\" height=\"24px\"viewBox=\"0 0 24 24\"\n",
       "       width=\"24px\">\n",
       "    <path d=\"M0 0h24v24H0V0z\" fill=\"none\"/>\n",
       "    <path d=\"M18.56 5.44l.94 2.06.94-2.06 2.06-.94-2.06-.94-.94-2.06-.94 2.06-2.06.94zm-11 1L8.5 8.5l.94-2.06 2.06-.94-2.06-.94L8.5 2.5l-.94 2.06-2.06.94zm10 10l.94 2.06.94-2.06 2.06-.94-2.06-.94-.94-2.06-.94 2.06-2.06.94z\"/><path d=\"M17.41 7.96l-1.37-1.37c-.4-.4-.92-.59-1.43-.59-.52 0-1.04.2-1.43.59L10.3 9.45l-7.72 7.72c-.78.78-.78 2.05 0 2.83L4 21.41c.39.39.9.59 1.41.59.51 0 1.02-.2 1.41-.59l7.78-7.78 2.81-2.81c.8-.78.8-2.07 0-2.86zM5.41 20L4 18.59l7.72-7.72 1.47 1.35L5.41 20z\"/>\n",
       "  </svg>\n",
       "      </button>\n",
       "      \n",
       "  <style>\n",
       "    .colab-df-container {\n",
       "      display:flex;\n",
       "      flex-wrap:wrap;\n",
       "      gap: 12px;\n",
       "    }\n",
       "\n",
       "    .colab-df-convert {\n",
       "      background-color: #E8F0FE;\n",
       "      border: none;\n",
       "      border-radius: 50%;\n",
       "      cursor: pointer;\n",
       "      display: none;\n",
       "      fill: #1967D2;\n",
       "      height: 32px;\n",
       "      padding: 0 0 0 0;\n",
       "      width: 32px;\n",
       "    }\n",
       "\n",
       "    .colab-df-convert:hover {\n",
       "      background-color: #E2EBFA;\n",
       "      box-shadow: 0px 1px 2px rgba(60, 64, 67, 0.3), 0px 1px 3px 1px rgba(60, 64, 67, 0.15);\n",
       "      fill: #174EA6;\n",
       "    }\n",
       "\n",
       "    [theme=dark] .colab-df-convert {\n",
       "      background-color: #3B4455;\n",
       "      fill: #D2E3FC;\n",
       "    }\n",
       "\n",
       "    [theme=dark] .colab-df-convert:hover {\n",
       "      background-color: #434B5C;\n",
       "      box-shadow: 0px 1px 3px 1px rgba(0, 0, 0, 0.15);\n",
       "      filter: drop-shadow(0px 1px 2px rgba(0, 0, 0, 0.3));\n",
       "      fill: #FFFFFF;\n",
       "    }\n",
       "  </style>\n",
       "\n",
       "      <script>\n",
       "        const buttonEl =\n",
       "          document.querySelector('#df-4b7ad50b-411f-4181-b2c4-f133564d5cdc button.colab-df-convert');\n",
       "        buttonEl.style.display =\n",
       "          google.colab.kernel.accessAllowed ? 'block' : 'none';\n",
       "\n",
       "        async function convertToInteractive(key) {\n",
       "          const element = document.querySelector('#df-4b7ad50b-411f-4181-b2c4-f133564d5cdc');\n",
       "          const dataTable =\n",
       "            await google.colab.kernel.invokeFunction('convertToInteractive',\n",
       "                                                     [key], {});\n",
       "          if (!dataTable) return;\n",
       "\n",
       "          const docLinkHtml = 'Like what you see? Visit the ' +\n",
       "            '<a target=\"_blank\" href=https://colab.research.google.com/notebooks/data_table.ipynb>data table notebook</a>'\n",
       "            + ' to learn more about interactive tables.';\n",
       "          element.innerHTML = '';\n",
       "          dataTable['output_type'] = 'display_data';\n",
       "          await google.colab.output.renderOutput(dataTable, element);\n",
       "          const docLink = document.createElement('div');\n",
       "          docLink.innerHTML = docLinkHtml;\n",
       "          element.appendChild(docLink);\n",
       "        }\n",
       "      </script>\n",
       "    </div>\n",
       "  </div>\n",
       "  "
      ],
      "text/plain": [
       "         Message                                                            \\\n",
       "           count unique                                                top   \n",
       "Category                                                                     \n",
       "ham         4825   4516                             Sorry, I'll call later   \n",
       "spam         747    653  Please call our customer service representativ...   \n",
       "\n",
       "               \n",
       "         freq  \n",
       "Category       \n",
       "ham        30  \n",
       "spam        4  "
      ]
     },
     "execution_count": 24,
     "metadata": {},
     "output_type": "execute_result"
    }
   ],
   "source": [
    "df.groupby('Category').describe()"
   ]
  },
  {
   "cell_type": "code",
   "execution_count": 25,
   "metadata": {
    "colab": {
     "base_uri": "https://localhost:8080/"
    },
    "id": "Q2smFdDBYf7D",
    "outputId": "40c1d868-3990-4c80-d169-6d38ea93de6d"
   },
   "outputs": [
    {
     "data": {
      "text/plain": [
       "(747, 2)"
      ]
     },
     "execution_count": 25,
     "metadata": {},
     "output_type": "execute_result"
    }
   ],
   "source": [
    "df_spam = df[df['Category']=='spam']\n",
    "df_spam.shape"
   ]
  },
  {
   "cell_type": "code",
   "execution_count": 26,
   "metadata": {
    "colab": {
     "base_uri": "https://localhost:8080/"
    },
    "id": "UyZVpNKcfWod",
    "outputId": "539e3229-e0c9-48a9-ddad-9abc5fbf576d"
   },
   "outputs": [
    {
     "data": {
      "text/plain": [
       "(4825, 2)"
      ]
     },
     "execution_count": 26,
     "metadata": {},
     "output_type": "execute_result"
    }
   ],
   "source": [
    "df_ham = df[df['Category']=='ham']\n",
    "df_ham.shape"
   ]
  },
  {
   "cell_type": "code",
   "execution_count": 27,
   "metadata": {
    "colab": {
     "base_uri": "https://localhost:8080/"
    },
    "id": "H0lL1XIHfqiL",
    "outputId": "429627a7-afbe-4313-ed1f-15900bb4d336"
   },
   "outputs": [
    {
     "data": {
      "text/plain": [
       "(747, 2)"
      ]
     },
     "execution_count": 27,
     "metadata": {},
     "output_type": "execute_result"
    }
   ],
   "source": [
    "df_ham_downsampled = df_ham.sample(df_spam.shape[0])\n",
    "df_ham_downsampled.shape\n"
   ]
  },
  {
   "cell_type": "code",
   "execution_count": 28,
   "metadata": {
    "colab": {
     "base_uri": "https://localhost:8080/"
    },
    "id": "BOia7Xp_ijn1",
    "outputId": "c9c5546b-1868-4f6d-e4fe-f5458118c88b"
   },
   "outputs": [
    {
     "data": {
      "text/plain": [
       "(1494, 2)"
      ]
     },
     "execution_count": 28,
     "metadata": {},
     "output_type": "execute_result"
    }
   ],
   "source": [
    "df_balanced = pd.concat([df_ham_downsampled, df_spam])\n",
    "df_balanced.shape"
   ]
  },
  {
   "cell_type": "code",
   "execution_count": 29,
   "metadata": {
    "colab": {
     "base_uri": "https://localhost:8080/"
    },
    "id": "vagHcRA6inqv",
    "outputId": "7ed02c4b-f66f-4d5f-baff-19913d50a0b4"
   },
   "outputs": [
    {
     "data": {
      "text/plain": [
       "ham     747\n",
       "spam    747\n",
       "Name: Category, dtype: int64"
      ]
     },
     "execution_count": 29,
     "metadata": {},
     "output_type": "execute_result"
    }
   ],
   "source": [
    "df_balanced['Category'].value_counts()"
   ]
  },
  {
   "cell_type": "code",
   "execution_count": 30,
   "metadata": {
    "colab": {
     "base_uri": "https://localhost:8080/",
     "height": 206
    },
    "id": "MH20sCaqinrx",
    "outputId": "ab60cef1-84d9-49a8-a397-0236cc82f49e"
   },
   "outputs": [
    {
     "data": {
      "text/html": [
       "\n",
       "  <div id=\"df-27ca9f9e-e128-43fe-b569-cd3ee3364ebe\">\n",
       "    <div class=\"colab-df-container\">\n",
       "      <div>\n",
       "<style scoped>\n",
       "    .dataframe tbody tr th:only-of-type {\n",
       "        vertical-align: middle;\n",
       "    }\n",
       "\n",
       "    .dataframe tbody tr th {\n",
       "        vertical-align: top;\n",
       "    }\n",
       "\n",
       "    .dataframe thead th {\n",
       "        text-align: right;\n",
       "    }\n",
       "</style>\n",
       "<table border=\"1\" class=\"dataframe\">\n",
       "  <thead>\n",
       "    <tr style=\"text-align: right;\">\n",
       "      <th></th>\n",
       "      <th>Category</th>\n",
       "      <th>Message</th>\n",
       "      <th>spam</th>\n",
       "    </tr>\n",
       "  </thead>\n",
       "  <tbody>\n",
       "    <tr>\n",
       "      <th>5460</th>\n",
       "      <td>spam</td>\n",
       "      <td>December only! Had your mobile 11mths+? You ar...</td>\n",
       "      <td>1</td>\n",
       "    </tr>\n",
       "    <tr>\n",
       "      <th>540</th>\n",
       "      <td>spam</td>\n",
       "      <td>from www.Applausestore.com MonthlySubscription...</td>\n",
       "      <td>1</td>\n",
       "    </tr>\n",
       "    <tr>\n",
       "      <th>3911</th>\n",
       "      <td>spam</td>\n",
       "      <td>You have an important customer service announc...</td>\n",
       "      <td>1</td>\n",
       "    </tr>\n",
       "    <tr>\n",
       "      <th>3718</th>\n",
       "      <td>spam</td>\n",
       "      <td>Thanks for your ringtone order, reference numb...</td>\n",
       "      <td>1</td>\n",
       "    </tr>\n",
       "    <tr>\n",
       "      <th>1624</th>\n",
       "      <td>spam</td>\n",
       "      <td>500 free text msgs. Just text ok to 80488 and ...</td>\n",
       "      <td>1</td>\n",
       "    </tr>\n",
       "  </tbody>\n",
       "</table>\n",
       "</div>\n",
       "      <button class=\"colab-df-convert\" onclick=\"convertToInteractive('df-27ca9f9e-e128-43fe-b569-cd3ee3364ebe')\"\n",
       "              title=\"Convert this dataframe to an interactive table.\"\n",
       "              style=\"display:none;\">\n",
       "        \n",
       "  <svg xmlns=\"http://www.w3.org/2000/svg\" height=\"24px\"viewBox=\"0 0 24 24\"\n",
       "       width=\"24px\">\n",
       "    <path d=\"M0 0h24v24H0V0z\" fill=\"none\"/>\n",
       "    <path d=\"M18.56 5.44l.94 2.06.94-2.06 2.06-.94-2.06-.94-.94-2.06-.94 2.06-2.06.94zm-11 1L8.5 8.5l.94-2.06 2.06-.94-2.06-.94L8.5 2.5l-.94 2.06-2.06.94zm10 10l.94 2.06.94-2.06 2.06-.94-2.06-.94-.94-2.06-.94 2.06-2.06.94z\"/><path d=\"M17.41 7.96l-1.37-1.37c-.4-.4-.92-.59-1.43-.59-.52 0-1.04.2-1.43.59L10.3 9.45l-7.72 7.72c-.78.78-.78 2.05 0 2.83L4 21.41c.39.39.9.59 1.41.59.51 0 1.02-.2 1.41-.59l7.78-7.78 2.81-2.81c.8-.78.8-2.07 0-2.86zM5.41 20L4 18.59l7.72-7.72 1.47 1.35L5.41 20z\"/>\n",
       "  </svg>\n",
       "      </button>\n",
       "      \n",
       "  <style>\n",
       "    .colab-df-container {\n",
       "      display:flex;\n",
       "      flex-wrap:wrap;\n",
       "      gap: 12px;\n",
       "    }\n",
       "\n",
       "    .colab-df-convert {\n",
       "      background-color: #E8F0FE;\n",
       "      border: none;\n",
       "      border-radius: 50%;\n",
       "      cursor: pointer;\n",
       "      display: none;\n",
       "      fill: #1967D2;\n",
       "      height: 32px;\n",
       "      padding: 0 0 0 0;\n",
       "      width: 32px;\n",
       "    }\n",
       "\n",
       "    .colab-df-convert:hover {\n",
       "      background-color: #E2EBFA;\n",
       "      box-shadow: 0px 1px 2px rgba(60, 64, 67, 0.3), 0px 1px 3px 1px rgba(60, 64, 67, 0.15);\n",
       "      fill: #174EA6;\n",
       "    }\n",
       "\n",
       "    [theme=dark] .colab-df-convert {\n",
       "      background-color: #3B4455;\n",
       "      fill: #D2E3FC;\n",
       "    }\n",
       "\n",
       "    [theme=dark] .colab-df-convert:hover {\n",
       "      background-color: #434B5C;\n",
       "      box-shadow: 0px 1px 3px 1px rgba(0, 0, 0, 0.15);\n",
       "      filter: drop-shadow(0px 1px 2px rgba(0, 0, 0, 0.3));\n",
       "      fill: #FFFFFF;\n",
       "    }\n",
       "  </style>\n",
       "\n",
       "      <script>\n",
       "        const buttonEl =\n",
       "          document.querySelector('#df-27ca9f9e-e128-43fe-b569-cd3ee3364ebe button.colab-df-convert');\n",
       "        buttonEl.style.display =\n",
       "          google.colab.kernel.accessAllowed ? 'block' : 'none';\n",
       "\n",
       "        async function convertToInteractive(key) {\n",
       "          const element = document.querySelector('#df-27ca9f9e-e128-43fe-b569-cd3ee3364ebe');\n",
       "          const dataTable =\n",
       "            await google.colab.kernel.invokeFunction('convertToInteractive',\n",
       "                                                     [key], {});\n",
       "          if (!dataTable) return;\n",
       "\n",
       "          const docLinkHtml = 'Like what you see? Visit the ' +\n",
       "            '<a target=\"_blank\" href=https://colab.research.google.com/notebooks/data_table.ipynb>data table notebook</a>'\n",
       "            + ' to learn more about interactive tables.';\n",
       "          element.innerHTML = '';\n",
       "          dataTable['output_type'] = 'display_data';\n",
       "          await google.colab.output.renderOutput(dataTable, element);\n",
       "          const docLink = document.createElement('div');\n",
       "          docLink.innerHTML = docLinkHtml;\n",
       "          element.appendChild(docLink);\n",
       "        }\n",
       "      </script>\n",
       "    </div>\n",
       "  </div>\n",
       "  "
      ],
      "text/plain": [
       "     Category                                            Message  spam\n",
       "5460     spam  December only! Had your mobile 11mths+? You ar...     1\n",
       "540      spam  from www.Applausestore.com MonthlySubscription...     1\n",
       "3911     spam  You have an important customer service announc...     1\n",
       "3718     spam  Thanks for your ringtone order, reference numb...     1\n",
       "1624     spam  500 free text msgs. Just text ok to 80488 and ...     1"
      ]
     },
     "execution_count": 30,
     "metadata": {},
     "output_type": "execute_result"
    }
   ],
   "source": [
    "df_balanced['spam'] = df_balanced['Category'].apply(lambda x:1 if x=='spam' else 0)\n",
    "df_balanced.sample(5)"
   ]
  },
  {
   "cell_type": "code",
   "execution_count": 31,
   "metadata": {
    "id": "a3s1wpRnkrFL"
   },
   "outputs": [],
   "source": [
    "## Splitting the data into trainig and testing\n",
    "\n",
    "from sklearn.model_selection import train_test_split\n",
    "X_train, X_test, y_train, y_test = train_test_split(df_balanced['Message'],df_balanced['spam'], stratify=df_balanced['spam'])\n"
   ]
  },
  {
   "cell_type": "code",
   "execution_count": 32,
   "metadata": {
    "colab": {
     "base_uri": "https://localhost:8080/"
    },
    "id": "TJMb_m8XkrGR",
    "outputId": "9db5a249-2d1c-4218-fdd9-38169c896a86"
   },
   "outputs": [
    {
     "data": {
      "text/plain": [
       "2261    Did you show him and wot did he say or could u...\n",
       "1399    You have registered Sinco as Payee. Log in at ...\n",
       "2679    New Tones This week include: 1)McFly-All Ab..,...\n",
       "4518    Just got part Nottingham - 3 hrs 63miles. Good...\n",
       "2741    I don't know u and u don't know me. Send CHAT ...\n",
       "Name: Message, dtype: object"
      ]
     },
     "execution_count": 32,
     "metadata": {},
     "output_type": "execute_result"
    }
   ],
   "source": [
    "X_train.head()"
   ]
  },
  {
   "cell_type": "markdown",
   "metadata": {
    "id": "4D-wjb_CnbR4"
   },
   "source": [
    "# Importing Bert Model\n"
   ]
  },
  {
   "cell_type": "code",
   "execution_count": 33,
   "metadata": {
    "id": "jTiVktQNkrJW"
   },
   "outputs": [],
   "source": [
    "bert_preprocess = hub.KerasLayer(\"https://tfhub.dev/tensorflow/bert_en_uncased_preprocess/3\")\n",
    "bert_encoder = hub.KerasLayer(\"https://tfhub.dev/tensorflow/bert_en_uncased_L-12_H-768_A-12/4\")"
   ]
  },
  {
   "cell_type": "code",
   "execution_count": 34,
   "metadata": {
    "colab": {
     "base_uri": "https://localhost:8080/"
    },
    "id": "iEk8ZGGckrOB",
    "outputId": "f4f5f27f-2be2-4e27-8475-04d9373615b7"
   },
   "outputs": [
    {
     "data": {
      "text/plain": [
       "<tf.Tensor: shape=(1, 768), dtype=float32, numpy=\n",
       "array([[-7.15374172e-01, -3.67126703e-01, -8.17613959e-01,\n",
       "         5.30438960e-01,  4.45275038e-01, -3.28996405e-02,\n",
       "         6.94700420e-01,  2.35333040e-01, -6.58993483e-01,\n",
       "        -9.99900162e-01, -2.92821407e-01,  6.41210318e-01,\n",
       "         9.45343494e-01,  6.05657756e-01,  7.81718671e-01,\n",
       "        -6.06536686e-01, -6.04166761e-02, -5.87709010e-01,\n",
       "         2.38372430e-01,  2.20142547e-02,  3.91535312e-01,\n",
       "         9.99850750e-01,  1.42418638e-01,  2.00104654e-01,\n",
       "         3.97671789e-01,  8.94349337e-01, -6.76234484e-01,\n",
       "         8.30131114e-01,  8.83576334e-01,  5.34395278e-01,\n",
       "        -4.41756994e-01,  1.25772297e-01, -9.54203546e-01,\n",
       "        -2.42135033e-01, -8.66030931e-01, -9.79525745e-01,\n",
       "         2.49927342e-01, -6.28743112e-01, -4.31175530e-02,\n",
       "         1.56739563e-01, -7.82902360e-01,  1.77673832e-01,\n",
       "         9.99791741e-01, -1.56978980e-01,  1.43701747e-01,\n",
       "        -3.07264328e-01, -9.99988556e-01,  1.85248628e-01,\n",
       "        -7.06588566e-01,  8.13013911e-01,  7.96866298e-01,\n",
       "         5.40721893e-01,  8.85542110e-02,  3.18261504e-01,\n",
       "         3.09189141e-01,  2.21571282e-01, -1.55701444e-01,\n",
       "         4.63333577e-02, -2.23288417e-01, -4.35443044e-01,\n",
       "        -6.14654779e-01,  4.08880860e-01, -7.23652661e-01,\n",
       "        -8.06169212e-01,  8.00026596e-01,  8.13211143e-01,\n",
       "        -1.25767186e-01, -2.85517991e-01, -1.15867302e-01,\n",
       "        -9.28944945e-02,  7.64652789e-01,  1.46111399e-01,\n",
       "        -4.95545864e-02, -8.17758143e-01,  5.43463707e-01,\n",
       "         2.66452074e-01, -7.23018646e-01,  1.00000000e+00,\n",
       "        -2.53919065e-01, -8.94650877e-01,  7.49037862e-01,\n",
       "         7.59693801e-01,  6.70345962e-01, -3.84497464e-01,\n",
       "         6.34964406e-01, -1.00000000e+00,  5.23952246e-01,\n",
       "        -1.85703821e-02, -9.68343377e-01,  1.69960171e-01,\n",
       "         4.80757505e-01, -2.36928701e-01,  7.39512801e-01,\n",
       "         6.63943708e-01, -7.48055220e-01, -2.40402699e-01,\n",
       "        -1.55271113e-01, -7.53568113e-01, -2.29058400e-01,\n",
       "        -1.43170282e-01,  4.39210050e-02, -1.58799350e-01,\n",
       "        -2.68806428e-01, -3.47134024e-01,  3.06703299e-01,\n",
       "        -4.15579468e-01, -1.09928213e-01,  4.88661319e-01,\n",
       "         1.33260474e-01,  6.40977442e-01,  5.71351469e-01,\n",
       "        -2.66638815e-01,  3.83576840e-01, -8.98360610e-01,\n",
       "         5.16166925e-01, -3.27614516e-01, -9.56262708e-01,\n",
       "        -6.66951001e-01, -9.47659016e-01,  5.53482831e-01,\n",
       "        -1.90878630e-01, -2.63692677e-01,  8.48345995e-01,\n",
       "        -2.70712167e-01,  3.53931785e-01,  3.67327854e-02,\n",
       "        -7.42208004e-01, -1.00000000e+00, -3.05444956e-01,\n",
       "        -5.47205687e-01, -1.86301082e-01, -2.70256311e-01,\n",
       "        -9.20071065e-01, -8.94343972e-01,  5.62182367e-01,\n",
       "         8.88595343e-01,  1.74993470e-01,  9.99329507e-01,\n",
       "        -1.74117368e-02,  8.45081151e-01, -2.78617710e-01,\n",
       "        -6.39240623e-01,  3.60310555e-01, -3.88984293e-01,\n",
       "         7.05610693e-01,  1.55727686e-02, -3.92245084e-01,\n",
       "         1.81813210e-01,  7.45141134e-02,  5.15821874e-02,\n",
       "        -4.97764587e-01, -1.53602451e-01, -6.91730738e-01,\n",
       "        -8.56797516e-01, -3.18074614e-01,  8.55705202e-01,\n",
       "        -4.09575671e-01, -8.69545937e-01, -9.89019126e-02,\n",
       "        -1.22584686e-01, -2.95255512e-01,  7.30680883e-01,\n",
       "         4.76932615e-01,  3.16997677e-01, -4.22451109e-01,\n",
       "         3.33315283e-01,  4.62112933e-01,  4.62510586e-01,\n",
       "        -7.31190562e-01,  8.25580582e-02,  3.96328926e-01,\n",
       "        -2.77687252e-01, -8.54323685e-01, -9.31885540e-01,\n",
       "        -3.26203376e-01,  4.94421214e-01,  9.63018000e-01,\n",
       "         5.40855765e-01,  2.82317042e-01,  4.92766619e-01,\n",
       "        -2.01409817e-01,  4.78957832e-01, -8.87005568e-01,\n",
       "         9.32521760e-01, -1.10705562e-01,  2.81531751e-01,\n",
       "        -1.84559077e-01,  5.03303170e-01, -6.88838303e-01,\n",
       "         2.84723878e-01,  6.47563279e-01, -3.18023413e-01,\n",
       "        -5.23142576e-01,  4.31003906e-02, -4.41284955e-01,\n",
       "        -2.69264579e-01, -5.02708733e-01,  2.44357064e-01,\n",
       "        -1.50787532e-01, -2.82648653e-01, -7.40613509e-03,\n",
       "         8.30620825e-01,  9.04263675e-01,  4.09723282e-01,\n",
       "         2.65667498e-01,  6.52831376e-01, -6.91000223e-01,\n",
       "        -1.99898183e-01, -7.76819512e-02,  1.43401816e-01,\n",
       "         7.77449235e-02,  9.66046512e-01, -6.61301255e-01,\n",
       "        -4.65314053e-02, -8.50929856e-01, -9.50402021e-01,\n",
       "        -7.23210573e-02, -7.24051118e-01, -3.80853377e-02,\n",
       "        -5.19566655e-01,  5.12642741e-01,  2.14911699e-01,\n",
       "         5.16505778e-01,  3.62608105e-01, -8.58355343e-01,\n",
       "        -6.66643798e-01,  2.76972562e-01, -4.31036979e-01,\n",
       "         4.62020427e-01, -1.55109763e-01,  8.25348198e-01,\n",
       "         8.87654781e-01, -5.12600482e-01,  3.75308573e-01,\n",
       "         8.85242224e-01, -7.39718974e-01, -6.05952680e-01,\n",
       "         4.96174991e-01, -1.99783698e-01,  7.26872981e-01,\n",
       "        -5.95073581e-01,  9.59205031e-01,  8.22278857e-01,\n",
       "         5.61287105e-01, -7.32730746e-01, -7.69615710e-01,\n",
       "        -6.35555327e-01, -6.42502189e-01,  6.23820932e-04,\n",
       "         3.03595036e-01,  8.64919066e-01,  6.79147661e-01,\n",
       "         2.52931058e-01,  3.49825667e-03, -4.27228272e-01,\n",
       "         9.23460782e-01, -8.61517787e-01, -8.97839189e-01,\n",
       "        -6.19590521e-01,  3.11839059e-02, -9.63410974e-01,\n",
       "         7.54800916e-01,  3.13682824e-01,  4.48441803e-02,\n",
       "        -4.23932970e-01, -4.82699186e-01, -8.84057760e-01,\n",
       "         6.25867307e-01,  5.35529293e-02,  9.31307971e-01,\n",
       "        -1.35587364e-01, -8.10540199e-01, -4.43367273e-01,\n",
       "        -8.17468286e-01, -2.91019261e-01, -1.35755047e-01,\n",
       "        -3.68449628e-01, -1.27879128e-01, -8.72178972e-01,\n",
       "         4.63016510e-01,  4.15286809e-01,  3.34546447e-01,\n",
       "        -8.51735651e-01,  9.81769204e-01,  9.99997973e-01,\n",
       "         8.97582889e-01,  7.60890603e-01,  7.06329286e-01,\n",
       "        -9.98587489e-01, -5.91961265e-01,  9.99966443e-01,\n",
       "        -9.36127424e-01, -1.00000000e+00, -8.09339941e-01,\n",
       "        -5.30814826e-01,  9.02175456e-02, -1.00000000e+00,\n",
       "        -2.62361556e-01,  6.77787960e-02, -7.94897318e-01,\n",
       "         5.96754193e-01,  9.25288618e-01,  9.15824890e-01,\n",
       "        -1.00000000e+00,  5.79731941e-01,  7.69377530e-01,\n",
       "        -7.17165589e-01,  7.91305006e-01, -2.10988894e-01,\n",
       "         8.99107695e-01,  6.33716822e-01,  3.77782911e-01,\n",
       "        -1.25220343e-01,  4.42352951e-01, -9.39728677e-01,\n",
       "        -7.19553232e-01, -4.44730729e-01, -5.49388766e-01,\n",
       "         9.87879217e-01,  4.43984047e-02, -6.83007836e-01,\n",
       "        -7.47838020e-01,  3.95662263e-02, -9.75183696e-02,\n",
       "        -7.37721920e-02, -8.88669252e-01, -2.39297107e-01,\n",
       "         2.03709632e-01,  6.90167844e-01,  5.34156561e-02,\n",
       "         2.86260635e-01, -3.75399768e-01,  2.67040104e-01,\n",
       "         2.19033554e-01,  2.09208980e-01,  7.48110414e-01,\n",
       "        -8.79874706e-01, -1.41458541e-01, -2.87397891e-01,\n",
       "        -2.43715644e-01, -6.43668234e-01, -8.98968458e-01,\n",
       "         8.82859290e-01, -2.74934858e-01,  6.42196655e-01,\n",
       "         1.00000000e+00,  8.95955190e-02, -6.14217937e-01,\n",
       "         5.30572832e-01,  1.07834026e-01, -3.89628887e-01,\n",
       "         1.00000000e+00,  6.34029686e-01, -9.29788709e-01,\n",
       "        -6.35364175e-01,  5.78527391e-01, -4.26872045e-01,\n",
       "        -4.90278482e-01,  9.97898161e-01, -1.76957354e-01,\n",
       "        -6.57287896e-01, -5.79942204e-02,  9.39191520e-01,\n",
       "        -9.67365444e-01,  9.86388087e-01, -7.66560614e-01,\n",
       "        -8.76776099e-01,  8.98945153e-01,  8.17296326e-01,\n",
       "        -5.33125520e-01, -5.48817992e-01,  1.22229911e-01,\n",
       "        -7.79942453e-01,  1.94997594e-01, -8.44966471e-01,\n",
       "         4.02599484e-01,  4.09193337e-01, -6.87567666e-02,\n",
       "         7.16693819e-01, -5.11363804e-01, -6.32597208e-01,\n",
       "         2.01025069e-01, -5.11104465e-01,  2.11111717e-02,\n",
       "         8.77129734e-01,  4.55564916e-01, -2.41819933e-01,\n",
       "        -8.85485932e-02, -2.53786534e-01, -5.78549147e-01,\n",
       "        -9.05120432e-01,  3.05898786e-01,  1.00000000e+00,\n",
       "        -1.46078378e-01,  4.89074111e-01, -5.23995936e-01,\n",
       "        -6.57373592e-02, -1.52039513e-01,  5.53875864e-01,\n",
       "         4.50140655e-01, -1.85772136e-01, -7.52195537e-01,\n",
       "         5.82710862e-01, -8.38146567e-01, -9.50924873e-01,\n",
       "         4.76818174e-01,  6.90873191e-02, -2.70592511e-01,\n",
       "         9.99706686e-01,  5.27397931e-01,  1.35464206e-01,\n",
       "         3.50536019e-01,  9.13268626e-01,  2.32956503e-02,\n",
       "         3.86248082e-01,  8.21959376e-01,  9.29985940e-01,\n",
       "        -2.10734084e-01,  6.85770929e-01,  4.36009467e-01,\n",
       "        -8.00361454e-01, -2.52591103e-01, -5.84418833e-01,\n",
       "        -4.00771759e-02, -8.65625560e-01,  7.75706843e-02,\n",
       "        -8.46783161e-01,  8.95418704e-01,  8.36454690e-01,\n",
       "         4.22601700e-01,  1.96011946e-01,  4.45448101e-01,\n",
       "         1.00000000e+00, -6.55333877e-01,  4.58913475e-01,\n",
       "         3.36560637e-01,  4.76276100e-01, -9.98794377e-01,\n",
       "        -6.33679390e-01, -2.14442894e-01, -5.27783595e-02,\n",
       "        -7.49901533e-01, -3.29009265e-01,  2.99026191e-01,\n",
       "        -9.20032680e-01,  7.17119098e-01,  5.06505132e-01,\n",
       "        -9.31175888e-01, -9.49394405e-01, -1.79530576e-01,\n",
       "         3.70722622e-01,  6.14607818e-02, -9.25724506e-01,\n",
       "        -5.65047324e-01, -3.85984391e-01,  3.15048903e-01,\n",
       "        -1.75956234e-01, -8.27186048e-01, -1.14369780e-01,\n",
       "        -2.65431464e-01,  3.65907282e-01, -1.70448929e-01,\n",
       "         6.51049972e-01,  8.32170784e-01,  6.00909472e-01,\n",
       "        -5.26886284e-01, -2.45867334e-02, -6.50994852e-02,\n",
       "        -7.11100638e-01,  7.42255867e-01, -6.24060333e-01,\n",
       "        -7.15068877e-01, -2.23516107e-01,  1.00000000e+00,\n",
       "        -3.66754353e-01,  8.68461132e-01,  5.28895736e-01,\n",
       "         3.78677517e-01, -1.16695821e-01,  1.95938557e-01,\n",
       "         8.95067275e-01,  2.79430866e-01, -8.05071831e-01,\n",
       "        -7.24638224e-01,  1.33432463e-01, -3.33122313e-01,\n",
       "         5.36120415e-01,  2.93751687e-01,  7.38197625e-01,\n",
       "         5.60420811e-01,  6.23990595e-01, -1.10194637e-02,\n",
       "         2.38668192e-02, -9.52697992e-02,  9.80588377e-01,\n",
       "        -1.99683625e-02,  4.15553935e-02, -3.23646933e-01,\n",
       "         4.60341247e-03, -2.73422211e-01,  3.69017348e-02,\n",
       "         1.00000000e+00,  1.98900968e-01,  1.90528423e-01,\n",
       "        -9.65511680e-01, -7.17372537e-01, -7.56706476e-01,\n",
       "         9.99992192e-01,  6.64363801e-01, -4.96590704e-01,\n",
       "         5.09768069e-01,  5.07659137e-01, -9.44525525e-02,\n",
       "         4.28661525e-01, -1.28677964e-01, -2.53689378e-01,\n",
       "         2.41364300e-01,  1.53123677e-01,  7.86241055e-01,\n",
       "        -5.19820511e-01, -9.25583065e-01, -5.90334296e-01,\n",
       "         2.99621612e-01, -8.74547899e-01,  9.99350369e-01,\n",
       "        -4.90021884e-01, -1.19509898e-01, -4.31304395e-01,\n",
       "         4.08898443e-01, -4.98117089e-01, -1.91891387e-01,\n",
       "        -9.34479296e-01, -1.27348572e-01,  2.04489931e-01,\n",
       "         8.20077956e-01,  2.50702560e-01, -6.71776891e-01,\n",
       "        -6.78511977e-01,  6.36805236e-01,  6.11014366e-01,\n",
       "        -8.13349724e-01, -8.44969809e-01,  8.81078243e-01,\n",
       "        -9.30716753e-01,  3.85154486e-01,  9.99999225e-01,\n",
       "         4.25537229e-01, -1.64243728e-01,  4.73021381e-02,\n",
       "        -2.84866214e-01,  2.87070572e-01, -2.99736798e-01,\n",
       "         5.64246535e-01, -8.84941816e-01, -2.68896967e-01,\n",
       "        -1.52658567e-01,  1.53525352e-01,  2.13260055e-02,\n",
       "         2.94698980e-02,  4.31661814e-01,  1.73331022e-01,\n",
       "        -6.39182210e-01, -5.71017027e-01,  8.98168683e-02,\n",
       "         3.09832662e-01,  7.04012454e-01, -3.08808744e-01,\n",
       "        -1.48344770e-01,  2.16253586e-02, -2.99929678e-02,\n",
       "        -7.37341523e-01, -2.44626284e-01, -3.12036008e-01,\n",
       "        -9.99886394e-01,  5.91416657e-01, -1.00000000e+00,\n",
       "         2.88732231e-01,  2.73877352e-01, -9.54377279e-02,\n",
       "         6.00100100e-01,  3.45608532e-01,  4.42658335e-01,\n",
       "        -4.26084906e-01, -7.77607739e-01,  3.89187783e-01,\n",
       "         6.17095292e-01, -1.78602442e-01, -1.15358934e-01,\n",
       "        -3.94873977e-01,  1.80610597e-01,  4.95326854e-02,\n",
       "         6.97931051e-02, -4.00900900e-01,  7.43465066e-01,\n",
       "        -8.63393918e-02,  1.00000000e+00,  1.24810882e-01,\n",
       "        -4.94466633e-01, -8.69271219e-01,  1.47110432e-01,\n",
       "        -2.10486248e-01,  9.99999225e-01, -6.12811446e-01,\n",
       "        -8.76264632e-01,  3.51586312e-01, -5.71099639e-01,\n",
       "        -7.13133276e-01,  2.47156933e-01,  2.17754766e-02,\n",
       "        -6.26004696e-01, -8.44024360e-01,  8.23970795e-01,\n",
       "         6.85577452e-01, -6.72255874e-01,  2.97686279e-01,\n",
       "        -2.30582163e-01, -3.11138630e-01,  8.14311504e-02,\n",
       "         7.45374441e-01,  9.47654963e-01,  5.41593075e-01,\n",
       "         6.38912916e-01,  2.65680879e-01, -2.16053993e-01,\n",
       "         9.21771765e-01,  1.64125323e-01, -1.15822695e-01,\n",
       "        -1.86161287e-02,  1.00000000e+00,  3.48482639e-01,\n",
       "        -8.45946074e-01,  3.22408080e-01, -9.26729739e-01,\n",
       "        -2.16556191e-01, -8.75487089e-01,  1.90092474e-01,\n",
       "         9.67124924e-02,  7.29629755e-01, -1.59463286e-01,\n",
       "         8.11953783e-01, -5.48593998e-01, -8.46127793e-02,\n",
       "        -3.55648816e-01, -3.69086385e-01,  3.27743620e-01,\n",
       "        -7.84252763e-01, -9.48641479e-01, -9.39244390e-01,\n",
       "         3.85032386e-01, -3.99123430e-01,  5.54909818e-02,\n",
       "         1.30525261e-01,  4.89570685e-02,  3.05422932e-01,\n",
       "         3.58833641e-01, -1.00000000e+00,  8.35204840e-01,\n",
       "         3.08798403e-01,  8.98776650e-01,  8.47817183e-01,\n",
       "         6.12200022e-01,  2.22286448e-01,  2.55734801e-01,\n",
       "        -9.43068802e-01, -8.30023468e-01, -2.64410228e-01,\n",
       "        -1.50703773e-01,  6.58339381e-01,  5.10978222e-01,\n",
       "         7.68056631e-01,  3.11027706e-01, -4.45710927e-01,\n",
       "        -1.61929801e-01, -4.90080446e-01, -6.13211095e-01,\n",
       "        -9.74593043e-01,  4.40508544e-01, -3.76074642e-01,\n",
       "        -7.30515718e-01,  8.96032572e-01,  1.47926897e-01,\n",
       "        -1.24227442e-01, -2.99388140e-01, -6.51691079e-01,\n",
       "         7.52024174e-01,  6.29083812e-01,  2.85435468e-01,\n",
       "         8.24317485e-02,  2.73657352e-01,  6.95419073e-01,\n",
       "         8.82205606e-01,  9.45802927e-01, -7.85696566e-01,\n",
       "         5.88866353e-01, -3.66772383e-01,  3.92969429e-01,\n",
       "         8.23296130e-01, -8.84401977e-01,  1.13623649e-01,\n",
       "         8.69791880e-02, -5.17024219e-01,  1.30205348e-01,\n",
       "        -1.91576019e-01, -8.50579560e-01,  6.92610383e-01,\n",
       "        -3.03785235e-01,  3.28984946e-01, -2.86938667e-01,\n",
       "         1.73628658e-01, -3.88263762e-01, -1.01334065e-01,\n",
       "        -6.48356557e-01, -5.60147643e-01,  7.01115191e-01,\n",
       "         3.20014432e-02,  7.43978202e-01,  6.77402973e-01,\n",
       "        -3.83863114e-02, -5.44766545e-01, -8.84101316e-02,\n",
       "        -7.84988701e-01, -8.39549303e-01,  6.65063977e-01,\n",
       "        -1.23893255e-02, -4.29834992e-01,  5.83153486e-01,\n",
       "        -1.46096095e-01,  7.79184878e-01,  2.98475325e-01,\n",
       "        -2.74540663e-01, -2.21050382e-01, -5.49246430e-01,\n",
       "         6.59881234e-01, -1.43572927e-01, -5.64386427e-01,\n",
       "        -4.19729352e-01,  4.85036850e-01,  3.12120706e-01,\n",
       "         9.99856949e-01, -7.83508062e-01, -8.29184711e-01,\n",
       "        -1.88301131e-01, -2.34653354e-01,  4.50062662e-01,\n",
       "        -4.63553101e-01, -1.00000000e+00,  2.07552388e-01,\n",
       "        -2.69063652e-01,  7.07596958e-01, -5.13230443e-01,\n",
       "         7.35049665e-01, -4.10221994e-01, -9.22466993e-01,\n",
       "        -2.53351212e-01,  3.70514452e-01,  6.72816932e-01,\n",
       "        -4.69673216e-01, -4.03593481e-01,  6.27386510e-01,\n",
       "         1.41175255e-01,  8.63959014e-01,  6.73050404e-01,\n",
       "         2.32119486e-01, -8.99763256e-02,  7.09704399e-01,\n",
       "        -6.35142028e-01, -6.40684128e-01,  8.07794094e-01]], dtype=float32)>"
      ]
     },
     "execution_count": 34,
     "metadata": {},
     "output_type": "execute_result"
    }
   ],
   "source": [
    " def get_sentence_embeding(sentences):\n",
    "   preprocessed_text = bert_preprocess(sentences)\n",
    "   return bert_encoder(preprocessed_text)['pooled_output']\n",
    "\n",
    "get_sentence_embeding([\n",
    "      \"500$ discount. hurry up\"\n",
    "      \"Umesh, are you a hockey player?\"]\n",
    ")   "
   ]
  },
  {
   "cell_type": "code",
   "execution_count": 35,
   "metadata": {
    "id": "WNsyy8v8krO9"
   },
   "outputs": [],
   "source": [
    "e = get_sentence_embeding([\n",
    "    \"banana\",\n",
    "    \"grapes\",\n",
    "    \"mango\",\n",
    "    \"jeff bezoz\",\n",
    "    \"elon musk\",\n",
    "    \"bill\"\n",
    "])"
   ]
  },
  {
   "cell_type": "code",
   "execution_count": 36,
   "metadata": {
    "colab": {
     "base_uri": "https://localhost:8080/"
    },
    "id": "6Ya7oUDVkrS4",
    "outputId": "f2a2262d-5e3f-43de-e84e-106adcfcaf7d"
   },
   "outputs": [
    {
     "data": {
      "text/plain": [
       "array([[0.9911088]], dtype=float32)"
      ]
     },
     "execution_count": 36,
     "metadata": {},
     "output_type": "execute_result"
    }
   ],
   "source": [
    "from sklearn.metrics.pairwise import cosine_similarity\n",
    "cosine_similarity([e[0]],[e[1]])"
   ]
  },
  {
   "cell_type": "code",
   "execution_count": 37,
   "metadata": {
    "colab": {
     "base_uri": "https://localhost:8080/"
    },
    "id": "hnCqcUdzkrTw",
    "outputId": "7ebdace3-721f-44b8-e4c1-3537a719f63f"
   },
   "outputs": [
    {
     "data": {
      "text/plain": [
       "array([[0.8964417]], dtype=float32)"
      ]
     },
     "execution_count": 37,
     "metadata": {},
     "output_type": "execute_result"
    }
   ],
   "source": [
    "cosine_similarity([e[2]],[e[4]])"
   ]
  },
  {
   "cell_type": "code",
   "execution_count": 38,
   "metadata": {
    "colab": {
     "base_uri": "https://localhost:8080/"
    },
    "id": "cKJ_OHq2_42w",
    "outputId": "278f2859-6f1d-4c79-c4fb-fa769204825b"
   },
   "outputs": [
    {
     "data": {
      "text/plain": [
       "array([[0.97493756]], dtype=float32)"
      ]
     },
     "execution_count": 38,
     "metadata": {},
     "output_type": "execute_result"
    }
   ],
   "source": [
    "cosine_similarity([e[3]],[e[4]])"
   ]
  },
  {
   "cell_type": "markdown",
   "metadata": {
    "id": "Vcjmmi2S_-mc"
   },
   "source": [
    "BUILDING MODEL"
   ]
  },
  {
   "cell_type": "code",
   "execution_count": 39,
   "metadata": {
    "id": "jQ4s7j8T_43u"
   },
   "outputs": [],
   "source": [
    "text_input = tf.keras.layers.Input(shape=(), dtype=tf.string,name=\"text\")\n",
    "preprocessed_text = bert_preprocess(text_input)\n",
    "outputs = bert_encoder(preprocessed_text)\n",
    "\n",
    "# Neural Network Layers\n",
    "l = tf.keras.layers.Dropout(0.1 , name=\"dropout\")(outputs['pooled_output'])\n",
    "l = tf.keras.layers.Dense(1 , activation='sigmoid' , name=\"output\")(l)\n",
    "\n",
    "# using inputs and outputs to construct a final model\n",
    "model = tf.keras.Model(inputs=[text_input], outputs=[l])"
   ]
  },
  {
   "cell_type": "code",
   "execution_count": 40,
   "metadata": {
    "colab": {
     "base_uri": "https://localhost:8080/"
    },
    "id": "Y21gFH_c_47j",
    "outputId": "fde6bd76-38b8-45ec-8a89-4dd17f9b50ad"
   },
   "outputs": [
    {
     "name": "stdout",
     "output_type": "stream",
     "text": [
      "Model: \"model\"\n",
      "__________________________________________________________________________________________________\n",
      "Layer (type)                    Output Shape         Param #     Connected to                     \n",
      "==================================================================================================\n",
      "text (InputLayer)               [(None,)]            0                                            \n",
      "__________________________________________________________________________________________________\n",
      "keras_layer (KerasLayer)        {'input_word_ids': ( 0           text[0][0]                       \n",
      "__________________________________________________________________________________________________\n",
      "keras_layer_1 (KerasLayer)      {'sequence_output':  109482241   keras_layer[0][0]                \n",
      "                                                                 keras_layer[0][1]                \n",
      "                                                                 keras_layer[0][2]                \n",
      "__________________________________________________________________________________________________\n",
      "dropout (Dropout)               (None, 768)          0           keras_layer_1[0][13]             \n",
      "__________________________________________________________________________________________________\n",
      "output (Dense)                  (None, 1)            769         dropout[0][0]                    \n",
      "==================================================================================================\n",
      "Total params: 109,483,010\n",
      "Trainable params: 769\n",
      "Non-trainable params: 109,482,241\n",
      "__________________________________________________________________________________________________\n"
     ]
    }
   ],
   "source": [
    "model.summary()"
   ]
  },
  {
   "cell_type": "code",
   "execution_count": 41,
   "metadata": {
    "colab": {
     "base_uri": "https://localhost:8080/"
    },
    "id": "VI3wwm42_48X",
    "outputId": "ab3f35a6-a7c5-4033-bad8-4230f4bd4ad5"
   },
   "outputs": [
    {
     "data": {
      "text/plain": [
       "1120"
      ]
     },
     "execution_count": 41,
     "metadata": {},
     "output_type": "execute_result"
    }
   ],
   "source": [
    "len(X_train)"
   ]
  },
  {
   "cell_type": "code",
   "execution_count": 48,
   "metadata": {
    "id": "81o9Jy3U_5AG"
   },
   "outputs": [],
   "source": [
    "# METRICS = [\n",
    "#            tf.keras.metrics.BinaryAccuracy(name='accuracy'),\n",
    "#            tf.keras.metrics.Precision(name='precision'),\n",
    "#            tf.keras.metrics.Recall(name='recall')\n",
    "# ]\n",
    "\n",
    "model.compile(optimizer='adam',\n",
    "              loss='binary_crossentropy',\n",
    "              metrics=METRICS)"
   ]
  },
  {
   "cell_type": "code",
   "execution_count": 49,
   "metadata": {
    "colab": {
     "base_uri": "https://localhost:8080/"
    },
    "id": "9Hy5v5up_5A5",
    "outputId": "f607f067-8a32-4bf1-c3ca-d65760251b23"
   },
   "outputs": [
    {
     "name": "stdout",
     "output_type": "stream",
     "text": [
      "35/35 [==============================] - 501s 14s/step - loss: 0.6071 - accuracy: 0.6964 - precision: 0.6986 - recall: 0.6911\n"
     ]
    },
    {
     "data": {
      "text/plain": [
       "<keras.callbacks.History at 0x7fe3df82da90>"
      ]
     },
     "execution_count": 49,
     "metadata": {},
     "output_type": "execute_result"
    }
   ],
   "source": [
    "model.fit(X_train , y_train , epochs=1)"
   ]
  },
  {
   "cell_type": "code",
   "execution_count": 50,
   "metadata": {
    "colab": {
     "base_uri": "https://localhost:8080/"
    },
    "id": "bsQxa-P2_5Es",
    "outputId": "a00b5000-efa5-4a62-a0a9-7ddb2655e876"
   },
   "outputs": [
    {
     "name": "stdout",
     "output_type": "stream",
     "text": [
      "12/12 [==============================] - 175s 15s/step - loss: 0.5308 - accuracy: 0.8797 - precision: 0.8515 - recall: 0.9198\n"
     ]
    },
    {
     "data": {
      "text/plain": [
       "[0.5307866930961609,\n",
       " 0.8796791434288025,\n",
       " 0.8514851331710815,\n",
       " 0.9197860956192017]"
      ]
     },
     "execution_count": 50,
     "metadata": {},
     "output_type": "execute_result"
    }
   ],
   "source": [
    "model.evaluate(X_test,y_test)"
   ]
  },
  {
   "cell_type": "code",
   "execution_count": 51,
   "metadata": {
    "colab": {
     "base_uri": "https://localhost:8080/"
    },
    "id": "zARW1KEr_5Fj",
    "outputId": "b5a1bd79-e225-455e-dcfb-81d96a8684bd"
   },
   "outputs": [
    {
     "data": {
      "text/plain": [
       "array([0.39856213, 0.38854524, 0.5949929 , 0.5613648 , 0.5996939 ,\n",
       "       0.55606925, 0.39388674, 0.7160986 , 0.66156477, 0.48984423,\n",
       "       0.5373676 , 0.6370236 , 0.8704567 , 0.5514212 , 0.2839344 ,\n",
       "       0.57773113, 0.48204905, 0.67229146, 0.2721504 , 0.41809136,\n",
       "       0.5170717 , 0.7063671 , 0.70880187, 0.5139825 , 0.38307768,\n",
       "       0.3681795 , 0.5685023 , 0.50152856, 0.4457486 , 0.38582575,\n",
       "       0.6370237 , 0.5860102 , 0.5125893 , 0.40656647, 0.5800103 ,\n",
       "       0.3713829 , 0.52042097, 0.49976575, 0.5533666 , 0.41345584,\n",
       "       0.44553694, 0.44312328, 0.56049854, 0.5823258 , 0.6459883 ,\n",
       "       0.6724591 , 0.38582575, 0.2278637 , 0.5106655 , 0.6409645 ,\n",
       "       0.27246892, 0.32947406, 0.26441494, 0.35521966, 0.5864078 ,\n",
       "       0.49606845, 0.6154231 , 0.41461   , 0.6934589 , 0.6726773 ,\n",
       "       0.4788301 , 0.60369706, 0.30765623, 0.5559608 , 0.52289873,\n",
       "       0.33619183, 0.5376273 , 0.5563684 , 0.66446495, 0.43344608,\n",
       "       0.40790972, 0.60996354, 0.7186564 , 0.2799202 , 0.25992954,\n",
       "       0.71350753, 0.4271625 , 0.42909366, 0.3028978 , 0.6496919 ,\n",
       "       0.4068126 , 0.47375268, 0.4357418 , 0.45967585, 0.53864807,\n",
       "       0.5238173 , 0.6461042 , 0.4148752 , 0.65154344, 0.5432402 ,\n",
       "       0.62045574, 0.30976725, 0.54859436, 0.38479358, 0.6502135 ,\n",
       "       0.6576024 , 0.6400125 , 0.8116304 , 0.6451435 , 0.57773113,\n",
       "       0.34477305, 0.6642339 , 0.3007635 , 0.6605078 , 0.4324276 ,\n",
       "       0.6126718 , 0.5095866 , 0.5059266 , 0.33921325, 0.4694529 ,\n",
       "       0.6041486 , 0.44243956, 0.5209355 , 0.3084837 , 0.6430022 ,\n",
       "       0.27985013, 0.5853908 , 0.6934631 , 0.3523221 , 0.66811526,\n",
       "       0.49955073, 0.65017384, 0.60031366, 0.63897014, 0.74437284,\n",
       "       0.63402617, 0.50202197, 0.65759706, 0.5132607 , 0.67413056,\n",
       "       0.4992468 , 0.35466933, 0.42326298, 0.73028547, 0.34298593,\n",
       "       0.6392187 , 0.42559984, 0.51433784, 0.57773113, 0.40652555,\n",
       "       0.36557686, 0.69937325, 0.2578113 , 0.71010596, 0.37286875,\n",
       "       0.5707773 , 0.5090333 , 0.49059662, 0.49793473, 0.42210034,\n",
       "       0.33169708, 0.61908686, 0.49224034, 0.638959  , 0.6254318 ,\n",
       "       0.67555803, 0.48677617, 0.7155087 , 0.6912093 , 0.59407985,\n",
       "       0.50158554, 0.62096846, 0.42665112, 0.37641165, 0.35591063,\n",
       "       0.4460503 , 0.7149919 , 0.5045245 , 0.4074807 , 0.38582516,\n",
       "       0.66156477, 0.5951947 , 0.6290207 , 0.66680896, 0.60721445,\n",
       "       0.6201525 , 0.626812  , 0.66680896, 0.6990839 , 0.5428897 ,\n",
       "       0.422191  , 0.67678034, 0.43327177, 0.50289   , 0.43678364,\n",
       "       0.6598418 , 0.7069361 , 0.45167223, 0.665393  , 0.57213825,\n",
       "       0.63876945, 0.60777056, 0.61642605, 0.55833787, 0.27395263,\n",
       "       0.3374561 , 0.54156905, 0.28244057, 0.63365066, 0.63946366,\n",
       "       0.58197576, 0.5519909 , 0.38146365, 0.48339093, 0.67555803,\n",
       "       0.6647561 , 0.38740695, 0.6873244 , 0.61683005, 0.37348944,\n",
       "       0.50647676, 0.48263055, 0.46087074, 0.320912  , 0.41952732,\n",
       "       0.5292112 , 0.46832967, 0.36489433, 0.63150024, 0.5945093 ,\n",
       "       0.41827863, 0.711007  , 0.40296185, 0.60777056, 0.33253926,\n",
       "       0.43656307, 0.5086268 , 0.6332139 , 0.4237485 , 0.65586066,\n",
       "       0.450282  , 0.63785475, 0.47336343, 0.4221999 , 0.64080554,\n",
       "       0.3029827 , 0.31279117, 0.7166151 , 0.58331406, 0.41506782,\n",
       "       0.4640058 , 0.41006938, 0.39562115, 0.46464306, 0.38564676,\n",
       "       0.5225163 , 0.37081698, 0.25517508, 0.65006113, 0.33054173,\n",
       "       0.447069  , 0.76680505, 0.5856925 , 0.47379637, 0.38886923,\n",
       "       0.6875292 , 0.34288555, 0.64621025, 0.62951404, 0.63892716,\n",
       "       0.626075  , 0.49909502, 0.5564563 , 0.7209714 , 0.61104965,\n",
       "       0.6850208 , 0.79865074, 0.2846107 , 0.73152333, 0.3562996 ,\n",
       "       0.42686987, 0.24922374, 0.36048025, 0.46667624, 0.57916886,\n",
       "       0.6623591 , 0.7008705 , 0.6083471 , 0.3518805 , 0.2768925 ,\n",
       "       0.56279504, 0.32513535, 0.3921129 , 0.52794087, 0.5741303 ,\n",
       "       0.45761168, 0.32253873, 0.56056577, 0.5604117 , 0.49997967,\n",
       "       0.6732659 , 0.5220093 , 0.33241642, 0.69510376, 0.2595613 ,\n",
       "       0.38335073, 0.4837341 , 0.6639638 , 0.456489  , 0.70880187,\n",
       "       0.7069727 , 0.2940745 , 0.38933817, 0.6310115 , 0.4974832 ,\n",
       "       0.276429  , 0.3952339 , 0.5649042 , 0.27018082, 0.43933797,\n",
       "       0.4429117 , 0.70083165, 0.5837006 , 0.47686917, 0.5960282 ,\n",
       "       0.48402613, 0.46500868, 0.55800486, 0.47955057, 0.6348665 ,\n",
       "       0.5706366 , 0.54266554, 0.2508006 , 0.6372208 , 0.43031636,\n",
       "       0.52070004, 0.46008408, 0.70880187, 0.6159214 , 0.34502703,\n",
       "       0.5922935 , 0.38362822, 0.528001  , 0.41203165, 0.8116304 ,\n",
       "       0.37278846, 0.28952083, 0.42820132, 0.38006648, 0.6045487 ,\n",
       "       0.6501229 , 0.62841165, 0.35041994, 0.5945476 , 0.39363188,\n",
       "       0.5608437 , 0.68624926, 0.45683008, 0.68797374, 0.3732067 ,\n",
       "       0.63320345, 0.6894235 , 0.54989254, 0.32052237, 0.3392505 ,\n",
       "       0.3521211 , 0.7121804 , 0.48326337, 0.65004027, 0.3562996 ,\n",
       "       0.5679035 , 0.61069226, 0.54215103, 0.32899946, 0.54326856,\n",
       "       0.36201355, 0.3536492 , 0.64503586, 0.5885473 , 0.34914255,\n",
       "       0.37541264, 0.398949  , 0.40803152, 0.4986045 ], dtype=float32)"
      ]
     },
     "execution_count": 51,
     "metadata": {},
     "output_type": "execute_result"
    }
   ],
   "source": [
    "y_predicted = model.predict(X_test)\n",
    "y_predicted = y_predicted.flatten()\n",
    "y_predicted"
   ]
  },
  {
   "cell_type": "code",
   "execution_count": 52,
   "metadata": {
    "colab": {
     "base_uri": "https://localhost:8080/"
    },
    "id": "msLYYeUL_5KS",
    "outputId": "b41d6d30-942a-4eaf-9f7b-1af0f4cf8887"
   },
   "outputs": [
    {
     "data": {
      "text/plain": [
       "array([0, 0, 1, 1, 1, 1, 0, 1, 1, 0, 1, 1, 1, 1, 0, 1, 0, 1, 0, 0, 1, 1,\n",
       "       1, 1, 0, 0, 1, 1, 0, 0, 1, 1, 1, 0, 1, 0, 1, 0, 1, 0, 0, 0, 1, 1,\n",
       "       1, 1, 0, 0, 1, 1, 0, 0, 0, 0, 1, 0, 1, 0, 1, 1, 0, 1, 0, 1, 1, 0,\n",
       "       1, 1, 1, 0, 0, 1, 1, 0, 0, 1, 0, 0, 0, 1, 0, 0, 0, 0, 1, 1, 1, 0,\n",
       "       1, 1, 1, 0, 1, 0, 1, 1, 1, 1, 1, 1, 0, 1, 0, 1, 0, 1, 1, 1, 0, 0,\n",
       "       1, 0, 1, 0, 1, 0, 1, 1, 0, 1, 0, 1, 1, 1, 1, 1, 1, 1, 1, 1, 0, 0,\n",
       "       0, 1, 0, 1, 0, 1, 1, 0, 0, 1, 0, 1, 0, 1, 1, 0, 0, 0, 0, 1, 0, 1,\n",
       "       1, 1, 0, 1, 1, 1, 1, 1, 0, 0, 0, 0, 1, 1, 0, 0, 1, 1, 1, 1, 1, 1,\n",
       "       1, 1, 1, 1, 0, 1, 0, 1, 0, 1, 1, 0, 1, 1, 1, 1, 1, 1, 0, 0, 1, 0,\n",
       "       1, 1, 1, 1, 0, 0, 1, 1, 0, 1, 1, 0, 1, 0, 0, 0, 0, 1, 0, 0, 1, 1,\n",
       "       0, 1, 0, 1, 0, 0, 1, 1, 0, 1, 0, 1, 0, 0, 1, 0, 0, 1, 1, 0, 0, 0,\n",
       "       0, 0, 0, 1, 0, 0, 1, 0, 0, 1, 1, 0, 0, 1, 0, 1, 1, 1, 1, 0, 1, 1,\n",
       "       1, 1, 1, 0, 1, 0, 0, 0, 0, 0, 1, 1, 1, 1, 0, 0, 1, 0, 0, 1, 1, 0,\n",
       "       0, 1, 1, 0, 1, 1, 0, 1, 0, 0, 0, 1, 0, 1, 1, 0, 0, 1, 0, 0, 0, 1,\n",
       "       0, 0, 0, 1, 1, 0, 1, 0, 0, 1, 0, 1, 1, 1, 0, 1, 0, 1, 0, 1, 1, 0,\n",
       "       1, 0, 1, 0, 1, 0, 0, 0, 0, 1, 1, 1, 0, 1, 0, 1, 1, 0, 1, 0, 1, 1,\n",
       "       1, 0, 0, 0, 1, 0, 1, 0, 1, 1, 1, 0, 1, 0, 0, 1, 1, 0, 0, 0, 0, 0])"
      ]
     },
     "execution_count": 52,
     "metadata": {},
     "output_type": "execute_result"
    }
   ],
   "source": [
    "import numpy as np\n",
    "\n",
    "y_predicted = np.where(y_predicted > 0.5, 1, 0)\n",
    "y_predicted"
   ]
  },
  {
   "cell_type": "code",
   "execution_count": 53,
   "metadata": {
    "colab": {
     "base_uri": "https://localhost:8080/"
    },
    "id": "OaOfjjmNHovw",
    "outputId": "9ea920eb-b01b-4ac5-f992-72a04438e049"
   },
   "outputs": [
    {
     "data": {
      "text/plain": [
       "array([[157,  30],\n",
       "       [ 15, 172]])"
      ]
     },
     "execution_count": 53,
     "metadata": {},
     "output_type": "execute_result"
    }
   ],
   "source": [
    "from sklearn.metrics import confusion_matrix, classification_report\n",
    "cm = confusion_matrix(y_test,y_predicted)\n",
    "cm"
   ]
  },
  {
   "cell_type": "code",
   "execution_count": 54,
   "metadata": {
    "colab": {
     "base_uri": "https://localhost:8080/",
     "height": 296
    },
    "id": "hPfa5h2kHowz",
    "outputId": "edf32058-fe73-43a8-8511-c09bfc9ee141"
   },
   "outputs": [
    {
     "data": {
      "text/plain": [
       "Text(33.0, 0.5, 'Truth')"
      ]
     },
     "execution_count": 54,
     "metadata": {},
     "output_type": "execute_result"
    },
    {
     "data": {
      "image/png": "[encoded data removed]",
      "text/plain": [
       "<Figure size 432x288 with 2 Axes>"
      ]
     },
     "metadata": {
      "needs_background": "light"
     },
     "output_type": "display_data"
    }
   ],
   "source": [
    "from matplotlib import pyplot as plt\n",
    "import seaborn as sn\n",
    "sn.heatmap(cm,annot=True,fmt='d')\n",
    "plt.xlabel('Predicted')\n",
    "plt.ylabel('Truth')"
   ]
  },
  {
   "cell_type": "code",
   "execution_count": 55,
   "metadata": {
    "colab": {
     "base_uri": "https://localhost:8080/"
    },
    "id": "cjxrxjX8Ho0m",
    "outputId": "e8a32fa6-2f0b-4ae5-cf6a-5e3a50be5c1e"
   },
   "outputs": [
    {
     "name": "stdout",
     "output_type": "stream",
     "text": [
      "              precision    recall  f1-score   support\n",
      "\n",
      "           0       0.91      0.84      0.87       187\n",
      "           1       0.85      0.92      0.88       187\n",
      "\n",
      "    accuracy                           0.88       374\n",
      "   macro avg       0.88      0.88      0.88       374\n",
      "weighted avg       0.88      0.88      0.88       374\n",
      "\n"
     ]
    }
   ],
   "source": [
    "print(classification_report(y_test,y_predicted))"
   ]
  },
  {
   "cell_type": "code",
   "execution_count": 56,
   "metadata": {
    "colab": {
     "base_uri": "https://localhost:8080/"
    },
    "id": "yCZuy29SHo1j",
    "outputId": "4d836dd5-29fc-4877-fc35-ccd510682a92"
   },
   "outputs": [
    {
     "data": {
      "text/plain": [
       "array([[0.6064359 ],\n",
       "       [0.5529702 ],\n",
       "       [0.607599  ],\n",
       "       [0.48558238],\n",
       "       [0.4531827 ],\n",
       "       [0.44956464],\n",
       "       [0.32918432],\n",
       "       [0.6141156 ],\n",
       "       [0.39239207],\n",
       "       [0.389746  ]], dtype=float32)"
      ]
     },
     "execution_count": 56,
     "metadata": {},
     "output_type": "execute_result"
    }
   ],
   "source": [
    "reviews = [\n",
    "    'Enter a chance to win $5000, hurry up, offer valid until march 31, 2021',\n",
    "    'You are awarded a SiPix Digital Camera! call 09061221061 from landline. Delivery within 28days. T Cs Box177. M221BP. 2yr warranty. 150ppm. 16 . p pÂ£3.99',\n",
    "    'it to 80488. Your 500 free text messages are valid until 31 December 2005.',\n",
    "    'Hey Sam, Are you coming for a cricket game tomorrow',\n",
    "    \"Why don't you wait 'til at least wednesday to see if you get your .\",\n",
    "    \"Umesh wants you to be present in office\",\n",
    "    \"Hello , how are you?\",\n",
    "    \"You have a chance to won $12000, hurry up offer valid till 5.00 pm\",\n",
    "    \"Stand a chance to win free scholarship\",\n",
    "    \"k lar... Joking wif u oni...\"\n",
    "]\n",
    "model.predict(reviews)"
   ]
  },
  {
   "cell_type": "code",
   "execution_count": null,
   "metadata": {
    "id": "fstpiOG4Ho6l"
   },
   "outputs": [],
   "source": []
  },
  {
   "cell_type": "code",
   "execution_count": null,
   "metadata": {
    "id": "nVehjaFQHpBJ"
   },
   "outputs": [],
   "source": []
  },
  {
   "cell_type": "code",
   "execution_count": null,
   "metadata": {
    "id": "I_7pzwh7HpB8"
   },
   "outputs": [],
   "source": []
  },
  {
   "cell_type": "code",
   "execution_count": null,
   "metadata": {
    "id": "HBXEil7WYs3j"
   },
   "outputs": [],
   "source": []
  },
  {
   "cell_type": "code",
   "execution_count": null,
   "metadata": {
    "id": "9KDPkr6wfxQ1"
   },
   "outputs": [],
   "source": []
  },
  {
   "cell_type": "code",
   "execution_count": null,
   "metadata": {
    "id": "J92j82cHYymk"
   },
   "outputs": [],
   "source": []
  },
  {
   "cell_type": "code",
   "execution_count": null,
   "metadata": {
    "id": "sZZyzIu2ZKHr"
   },
   "outputs": [],
   "source": []
  },
  {
   "cell_type": "code",
   "execution_count": null,
   "metadata": {
    "id": "Iwl1SzLSZW83"
   },
   "outputs": [],
   "source": []
  },
  {
   "cell_type": "code",
   "execution_count": null,
   "metadata": {
    "id": "pmpUU5uPZbuQ"
   },
   "outputs": [],
   "source": []
  }
 ],
 "metadata": {
  "colab": {
   "collapsed_sections": [],
   "name": "Sentiment Analysis.ipynb",
   "provenance": []
  },
  "kernelspec": {
   "display_name": "Python 3 (ipykernel)",
   "language": "python",
   "name": "python3"
  },
  "language_info": {
   "codemirror_mode": {
    "name": "ipython",
    "version": 3
   },
   "file_extension": ".py",
   "mimetype": "text/x-python",
   "name": "python",
   "nbconvert_exporter": "python",
   "pygments_lexer": "ipython3",
   "version": "3.9.7"
  }
 },
 "nbformat": 4,
 "nbformat_minor": 1
}
